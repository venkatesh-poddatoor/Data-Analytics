{
 "cells": [
  {
   "cell_type": "code",
   "execution_count": 8,
   "id": "ed9bf56a-af1f-44e0-8eaa-41d861f26c6a",
   "metadata": {},
   "outputs": [],
   "source": [
    "import pandas as pd\n",
    "import numpy as np\n",
    "import matplotlib.pyplot as plt\n",
    "import seaborn as sns\n",
    "import plotly.express as px"
   ]
  },
  {
   "cell_type": "code",
   "execution_count": 9,
   "id": "49988600-2cdb-49e8-b19b-cb4826d6912e",
   "metadata": {},
   "outputs": [],
   "source": [
    "ec_df = pd.read_csv('Ecommerce_Delivery_Analytics_New.csv')"
   ]
  },
  {
   "cell_type": "code",
   "execution_count": null,
   "id": "580c756e-5d5b-435a-85de-b52beb6366f6",
   "metadata": {},
   "outputs": [],
   "source": []
  },
  {
   "cell_type": "code",
   "execution_count": 10,
   "id": "2cb6821c-4e39-4f70-9a2b-2a7225e9ade7",
   "metadata": {},
   "outputs": [],
   "source": [
    "class ecommerce:\n",
    "    \"\"\"\n",
    "       Initialize class with dataframe\n",
    "    \"\"\"\n",
    "    def __init__(self,ec_df):\n",
    "        self.ec_df = ec_df\n",
    "    \"\"\"\n",
    "       Displays dataset\n",
    "    \"\"\"\n",
    "    def dataframe(self):\n",
    "        return self.ec_df\n",
    "    \"\"\"\n",
    "       Information of the dataset\n",
    "    \"\"\"\n",
    "    def basic_info(self):\n",
    "        return self.ec_df.info()\n",
    "\n",
    "    \"\"\"\n",
    "       rows and columns count\n",
    "    \"\"\"\n",
    "    def count_rows_columns(self):\n",
    "        return self.ec_df.shape\n",
    "    \"\"\"\n",
    "       Indexing\n",
    "    \"\"\"\n",
    "    def Indexing(self):\n",
    "        return self.ec_df.index\n",
    "    \"\"\"\n",
    "       Checking null values\n",
    "    \"\"\"\n",
    "    def null_values_sum(self):\n",
    "        return self.ec_df.isnull().sum()\n",
    "    \"\"\"\n",
    "       top 3 product category\n",
    "    \"\"\"\n",
    "    def top_product_category (self):\n",
    "        return self.ec_df['Product Category'].value_counts().head(3)\n",
    "    \"\"\"\n",
    "       refunds_by_platform\n",
    "    \"\"\"\n",
    "    def refunds_by_platform (self):\n",
    "        return self.ec_df[self.ec_df['Refund Requested'] == 'Yes'].groupby('Platform').size().reset_index(name='Refund Count')\n",
    "    \"\"\"\n",
    "       Delivery_Delay_by_platform\n",
    "    \"\"\"\n",
    "    def Delivery_Delay_by_platform (self):\n",
    "        return self.ec_df[self.ec_df['Delivery Delay'] == 'Yes'].groupby('Platform').size().reset_index(name='Delivery Delay')\n",
    "    \"\"\"\n",
    "       avg delivary time of each platform\n",
    "    \"\"\"\n",
    "    def avg_delivary_time(self):\n",
    "        return self.ec_df.groupby('Platform')['Delivery Time (Minutes)'].mean() \n",
    "    \"\"\"\n",
    "       better average service rating by platform\n",
    "    \"\"\"\n",
    "    def better_service_rating(self):\n",
    "        return self.ec_df.groupby('Platform')['Service Rating'].mean().head(3)\n",
    "    \"\"\"\n",
    "       calculating outliers\n",
    "    \"\"\"\n",
    "    def Outliers(self, col):\n",
    "        Q1 = self.ec_df[col].quantile(0.25)\n",
    "        Q3 = self.ec_df[col].quantile(0.75)\n",
    "        IQR = Q3 - Q1 # inter quartile range\n",
    "    \n",
    "        lower_bound = Q1 - 1.5 * IQR\n",
    "        upper_bound = Q3 + 1.5 * IQR\n",
    "    \n",
    "        outliers = self.ec_df[(self.ec_df[col] < lower_bound) | (self.ec_df[col] > upper_bound)]\n",
    "        print(f\"Lower Bound: {lower_bound}\")\n",
    "        print(f\"Upper Bound: {upper_bound}\")\n",
    "        print(f\"Number of outliers: {len(outliers)}\")\n",
    "        return\n",
    "    \"\"\"\n",
    "       heat map\n",
    "    \"\"\"\n",
    "    def heat_map(self):\n",
    "        numeric_df = self.ec_df.select_dtypes(include=np.number)\n",
    "        corr = numeric_df.corr()\n",
    "        sns.heatmap(corr, annot=True, cmap='coolwarm')\n",
    "        plt.show()\n",
    "    \"\"\"\n",
    "       outliners\n",
    "    \"\"\"\n",
    "    def outlayers(self):\n",
    "        return plt.boxplot(ec_df['Service Rating'])\n",
    "\n",
    "    \"\"\"\n",
    "       outliners\n",
    "    \"\"\"\n",
    "    def Outliers(self, col):\n",
    "        Q1 = self.ec_df[col].quantile(0.25)\n",
    "        Q3 = self.ec_df[col].quantile(0.75)\n",
    "        IQR = Q3 - Q1 # inter quartile range\n",
    "    \n",
    "        lower_bound = Q1 - 1.5 * IQR\n",
    "        upper_bound = Q3 + 1.5 * IQR\n",
    "    \n",
    "        outliers = self.ec_df[(self.ec_df[col] < lower_bound) | (self.ec_df[col] > upper_bound)]\n",
    "        print(f\"Lower Bound: {lower_bound}\")\n",
    "        print(f\"Upper Bound: {upper_bound}\")\n",
    "        print(f\"Number of outliers: {len(outliers)}\")\n",
    "        return\n",
    "\n",
    "        \n",
    "\n",
    "\n",
    "        \n",
    "    \n",
    "    "
   ]
  },
  {
   "cell_type": "code",
   "execution_count": 12,
   "id": "4c94b79a-892d-4d1f-a73a-a2c3d785fefd",
   "metadata": {},
   "outputs": [],
   "source": [
    "Ecom = ecommerce(ec_df)"
   ]
  },
  {
   "cell_type": "code",
   "execution_count": 13,
   "id": "12696d65-7a52-4994-aa22-a3f65c55089c",
   "metadata": {},
   "outputs": [
    {
     "data": {
      "text/html": [
       "<div>\n",
       "<style scoped>\n",
       "    .dataframe tbody tr th:only-of-type {\n",
       "        vertical-align: middle;\n",
       "    }\n",
       "\n",
       "    .dataframe tbody tr th {\n",
       "        vertical-align: top;\n",
       "    }\n",
       "\n",
       "    .dataframe thead th {\n",
       "        text-align: right;\n",
       "    }\n",
       "</style>\n",
       "<table border=\"1\" class=\"dataframe\">\n",
       "  <thead>\n",
       "    <tr style=\"text-align: right;\">\n",
       "      <th></th>\n",
       "      <th>Order ID</th>\n",
       "      <th>Customer ID</th>\n",
       "      <th>Platform</th>\n",
       "      <th>Order Date &amp; Time</th>\n",
       "      <th>Delivery Time (Minutes)</th>\n",
       "      <th>Product Category</th>\n",
       "      <th>Order Value (INR)</th>\n",
       "      <th>Customer Feedback</th>\n",
       "      <th>Service Rating</th>\n",
       "      <th>Delivery Delay</th>\n",
       "      <th>Refund Requested</th>\n",
       "    </tr>\n",
       "  </thead>\n",
       "  <tbody>\n",
       "    <tr>\n",
       "      <th>0</th>\n",
       "      <td>ORD000001</td>\n",
       "      <td>CUST2824</td>\n",
       "      <td>JioMart</td>\n",
       "      <td>19:29.5</td>\n",
       "      <td>30</td>\n",
       "      <td>Fruits &amp; Vegetables</td>\n",
       "      <td>382</td>\n",
       "      <td>Fast delivery, great service!</td>\n",
       "      <td>5</td>\n",
       "      <td>No</td>\n",
       "      <td>No</td>\n",
       "    </tr>\n",
       "    <tr>\n",
       "      <th>1</th>\n",
       "      <td>ORD000002</td>\n",
       "      <td>CUST1409</td>\n",
       "      <td>Blinkit</td>\n",
       "      <td>54:29.5</td>\n",
       "      <td>16</td>\n",
       "      <td>Dairy</td>\n",
       "      <td>279</td>\n",
       "      <td>Quick and reliable!</td>\n",
       "      <td>5</td>\n",
       "      <td>No</td>\n",
       "      <td>No</td>\n",
       "    </tr>\n",
       "    <tr>\n",
       "      <th>2</th>\n",
       "      <td>ORD000003</td>\n",
       "      <td>CUST5506</td>\n",
       "      <td>JioMart</td>\n",
       "      <td>21:29.5</td>\n",
       "      <td>25</td>\n",
       "      <td>Beverages</td>\n",
       "      <td>599</td>\n",
       "      <td>Items missing from order.</td>\n",
       "      <td>2</td>\n",
       "      <td>No</td>\n",
       "      <td>Yes</td>\n",
       "    </tr>\n",
       "    <tr>\n",
       "      <th>3</th>\n",
       "      <td>ORD000004</td>\n",
       "      <td>CUST5012</td>\n",
       "      <td>JioMart</td>\n",
       "      <td>19:29.5</td>\n",
       "      <td>42</td>\n",
       "      <td>Beverages</td>\n",
       "      <td>946</td>\n",
       "      <td>Items missing from order.</td>\n",
       "      <td>2</td>\n",
       "      <td>Yes</td>\n",
       "      <td>Yes</td>\n",
       "    </tr>\n",
       "    <tr>\n",
       "      <th>4</th>\n",
       "      <td>ORD000005</td>\n",
       "      <td>CUST4657</td>\n",
       "      <td>Blinkit</td>\n",
       "      <td>49:29.5</td>\n",
       "      <td>30</td>\n",
       "      <td>Beverages</td>\n",
       "      <td>334</td>\n",
       "      <td>Fast delivery, great service!</td>\n",
       "      <td>5</td>\n",
       "      <td>No</td>\n",
       "      <td>No</td>\n",
       "    </tr>\n",
       "    <tr>\n",
       "      <th>...</th>\n",
       "      <td>...</td>\n",
       "      <td>...</td>\n",
       "      <td>...</td>\n",
       "      <td>...</td>\n",
       "      <td>...</td>\n",
       "      <td>...</td>\n",
       "      <td>...</td>\n",
       "      <td>...</td>\n",
       "      <td>...</td>\n",
       "      <td>...</td>\n",
       "      <td>...</td>\n",
       "    </tr>\n",
       "    <tr>\n",
       "      <th>99995</th>\n",
       "      <td>ORD099996</td>\n",
       "      <td>CUST5324</td>\n",
       "      <td>JioMart</td>\n",
       "      <td>49:29.5</td>\n",
       "      <td>24</td>\n",
       "      <td>Dairy</td>\n",
       "      <td>289</td>\n",
       "      <td>Packaging could be better.</td>\n",
       "      <td>3</td>\n",
       "      <td>No</td>\n",
       "      <td>No</td>\n",
       "    </tr>\n",
       "    <tr>\n",
       "      <th>99996</th>\n",
       "      <td>ORD099997</td>\n",
       "      <td>CUST1677</td>\n",
       "      <td>JioMart</td>\n",
       "      <td>18:29.5</td>\n",
       "      <td>19</td>\n",
       "      <td>Snacks</td>\n",
       "      <td>322</td>\n",
       "      <td>Good quality products.</td>\n",
       "      <td>4</td>\n",
       "      <td>No</td>\n",
       "      <td>No</td>\n",
       "    </tr>\n",
       "    <tr>\n",
       "      <th>99997</th>\n",
       "      <td>ORD099998</td>\n",
       "      <td>CUST8198</td>\n",
       "      <td>JioMart</td>\n",
       "      <td>27:29.5</td>\n",
       "      <td>41</td>\n",
       "      <td>Dairy</td>\n",
       "      <td>135</td>\n",
       "      <td>Fast delivery, great service!</td>\n",
       "      <td>5</td>\n",
       "      <td>Yes</td>\n",
       "      <td>No</td>\n",
       "    </tr>\n",
       "    <tr>\n",
       "      <th>99998</th>\n",
       "      <td>ORD099999</td>\n",
       "      <td>CUST9975</td>\n",
       "      <td>JioMart</td>\n",
       "      <td>14:29.5</td>\n",
       "      <td>31</td>\n",
       "      <td>Grocery</td>\n",
       "      <td>973</td>\n",
       "      <td>Quick and reliable!</td>\n",
       "      <td>5</td>\n",
       "      <td>No</td>\n",
       "      <td>No</td>\n",
       "    </tr>\n",
       "    <tr>\n",
       "      <th>99999</th>\n",
       "      <td>ORD100000</td>\n",
       "      <td>CUST3748</td>\n",
       "      <td>JioMart</td>\n",
       "      <td>41:29.5</td>\n",
       "      <td>34</td>\n",
       "      <td>Fruits &amp; Vegetables</td>\n",
       "      <td>453</td>\n",
       "      <td>Packaging could be better.</td>\n",
       "      <td>3</td>\n",
       "      <td>No</td>\n",
       "      <td>No</td>\n",
       "    </tr>\n",
       "  </tbody>\n",
       "</table>\n",
       "<p>100000 rows × 11 columns</p>\n",
       "</div>"
      ],
      "text/plain": [
       "        Order ID Customer ID Platform Order Date & Time  \\\n",
       "0      ORD000001    CUST2824  JioMart           19:29.5   \n",
       "1      ORD000002    CUST1409  Blinkit           54:29.5   \n",
       "2      ORD000003    CUST5506  JioMart           21:29.5   \n",
       "3      ORD000004    CUST5012  JioMart           19:29.5   \n",
       "4      ORD000005    CUST4657  Blinkit           49:29.5   \n",
       "...          ...         ...      ...               ...   \n",
       "99995  ORD099996    CUST5324  JioMart           49:29.5   \n",
       "99996  ORD099997    CUST1677  JioMart           18:29.5   \n",
       "99997  ORD099998    CUST8198  JioMart           27:29.5   \n",
       "99998  ORD099999    CUST9975  JioMart           14:29.5   \n",
       "99999  ORD100000    CUST3748  JioMart           41:29.5   \n",
       "\n",
       "       Delivery Time (Minutes)     Product Category  Order Value (INR)  \\\n",
       "0                           30  Fruits & Vegetables                382   \n",
       "1                           16                Dairy                279   \n",
       "2                           25            Beverages                599   \n",
       "3                           42            Beverages                946   \n",
       "4                           30            Beverages                334   \n",
       "...                        ...                  ...                ...   \n",
       "99995                       24                Dairy                289   \n",
       "99996                       19               Snacks                322   \n",
       "99997                       41                Dairy                135   \n",
       "99998                       31              Grocery                973   \n",
       "99999                       34  Fruits & Vegetables                453   \n",
       "\n",
       "                   Customer Feedback  Service Rating Delivery Delay  \\\n",
       "0      Fast delivery, great service!               5             No   \n",
       "1                Quick and reliable!               5             No   \n",
       "2          Items missing from order.               2             No   \n",
       "3          Items missing from order.               2            Yes   \n",
       "4      Fast delivery, great service!               5             No   \n",
       "...                              ...             ...            ...   \n",
       "99995     Packaging could be better.               3             No   \n",
       "99996         Good quality products.               4             No   \n",
       "99997  Fast delivery, great service!               5            Yes   \n",
       "99998            Quick and reliable!               5             No   \n",
       "99999     Packaging could be better.               3             No   \n",
       "\n",
       "      Refund Requested  \n",
       "0                   No  \n",
       "1                   No  \n",
       "2                  Yes  \n",
       "3                  Yes  \n",
       "4                   No  \n",
       "...                ...  \n",
       "99995               No  \n",
       "99996               No  \n",
       "99997               No  \n",
       "99998               No  \n",
       "99999               No  \n",
       "\n",
       "[100000 rows x 11 columns]"
      ]
     },
     "execution_count": 13,
     "metadata": {},
     "output_type": "execute_result"
    }
   ],
   "source": [
    "Ecom.dataframe()"
   ]
  },
  {
   "cell_type": "code",
   "execution_count": 14,
   "id": "1ba060b1-8a84-4e77-993f-67c855fcdc24",
   "metadata": {},
   "outputs": [
    {
     "name": "stdout",
     "output_type": "stream",
     "text": [
      "<class 'pandas.core.frame.DataFrame'>\n",
      "RangeIndex: 100000 entries, 0 to 99999\n",
      "Data columns (total 11 columns):\n",
      " #   Column                   Non-Null Count   Dtype \n",
      "---  ------                   --------------   ----- \n",
      " 0   Order ID                 100000 non-null  object\n",
      " 1   Customer ID              100000 non-null  object\n",
      " 2   Platform                 100000 non-null  object\n",
      " 3   Order Date & Time        100000 non-null  object\n",
      " 4   Delivery Time (Minutes)  100000 non-null  int64 \n",
      " 5   Product Category         100000 non-null  object\n",
      " 6   Order Value (INR)        100000 non-null  int64 \n",
      " 7   Customer Feedback        100000 non-null  object\n",
      " 8   Service Rating           100000 non-null  int64 \n",
      " 9   Delivery Delay           100000 non-null  object\n",
      " 10  Refund Requested         100000 non-null  object\n",
      "dtypes: int64(3), object(8)\n",
      "memory usage: 8.4+ MB\n"
     ]
    }
   ],
   "source": [
    "Ecom.basic_info()"
   ]
  },
  {
   "cell_type": "code",
   "execution_count": 105,
   "id": "2b55d9c7-d756-4d57-ba39-135d9766ec28",
   "metadata": {},
   "outputs": [
    {
     "data": {
      "text/plain": [
       "(100000, 11)"
      ]
     },
     "execution_count": 105,
     "metadata": {},
     "output_type": "execute_result"
    }
   ],
   "source": [
    "Ecom.count_rows_columns()"
   ]
  },
  {
   "cell_type": "code",
   "execution_count": 106,
   "id": "f858ec6c-5c1b-4bd7-b468-7c75045b1f0b",
   "metadata": {},
   "outputs": [
    {
     "data": {
      "text/plain": [
       "RangeIndex(start=0, stop=100000, step=1)"
      ]
     },
     "execution_count": 106,
     "metadata": {},
     "output_type": "execute_result"
    }
   ],
   "source": [
    "Ecom.Indexing()"
   ]
  },
  {
   "cell_type": "code",
   "execution_count": 107,
   "id": "e2afbad9-b8a8-4919-a8cd-f89cbeab9a34",
   "metadata": {},
   "outputs": [
    {
     "data": {
      "text/plain": [
       "Order ID                   0\n",
       "Customer ID                0\n",
       "Platform                   0\n",
       "Order Date & Time          0\n",
       "Delivery Time (Minutes)    0\n",
       "Product Category           0\n",
       "Order Value (INR)          0\n",
       "Customer Feedback          0\n",
       "Service Rating             0\n",
       "Delivery Delay             0\n",
       "Refund Requested           0\n",
       "dtype: int64"
      ]
     },
     "execution_count": 107,
     "metadata": {},
     "output_type": "execute_result"
    }
   ],
   "source": [
    "Ecom.null_values_sum()"
   ]
  },
  {
   "cell_type": "code",
   "execution_count": 108,
   "id": "0003df15-2680-4a1a-af26-e538692abe91",
   "metadata": {},
   "outputs": [
    {
     "data": {
      "text/plain": [
       "Product Category\n",
       "Dairy      16857\n",
       "Grocery    16737\n",
       "Snacks     16705\n",
       "Name: count, dtype: int64"
      ]
     },
     "execution_count": 108,
     "metadata": {},
     "output_type": "execute_result"
    }
   ],
   "source": [
    "Ecom.top_product_category()"
   ]
  },
  {
   "cell_type": "code",
   "execution_count": 109,
   "id": "e9d69dc2-02b7-45ac-b96f-058dcc83d0aa",
   "metadata": {},
   "outputs": [
    {
     "data": {
      "text/html": [
       "<div>\n",
       "<style scoped>\n",
       "    .dataframe tbody tr th:only-of-type {\n",
       "        vertical-align: middle;\n",
       "    }\n",
       "\n",
       "    .dataframe tbody tr th {\n",
       "        vertical-align: top;\n",
       "    }\n",
       "\n",
       "    .dataframe thead th {\n",
       "        text-align: right;\n",
       "    }\n",
       "</style>\n",
       "<table border=\"1\" class=\"dataframe\">\n",
       "  <thead>\n",
       "    <tr style=\"text-align: right;\">\n",
       "      <th></th>\n",
       "      <th>Platform</th>\n",
       "      <th>Refund Count</th>\n",
       "    </tr>\n",
       "  </thead>\n",
       "  <tbody>\n",
       "    <tr>\n",
       "      <th>0</th>\n",
       "      <td>Blinkit</td>\n",
       "      <td>15353</td>\n",
       "    </tr>\n",
       "    <tr>\n",
       "      <th>1</th>\n",
       "      <td>JioMart</td>\n",
       "      <td>15178</td>\n",
       "    </tr>\n",
       "    <tr>\n",
       "      <th>2</th>\n",
       "      <td>Swiggy Instamart</td>\n",
       "      <td>15288</td>\n",
       "    </tr>\n",
       "  </tbody>\n",
       "</table>\n",
       "</div>"
      ],
      "text/plain": [
       "           Platform  Refund Count\n",
       "0           Blinkit         15353\n",
       "1           JioMart         15178\n",
       "2  Swiggy Instamart         15288"
      ]
     },
     "execution_count": 109,
     "metadata": {},
     "output_type": "execute_result"
    }
   ],
   "source": [
    "Ecom.refunds_by_platform()"
   ]
  },
  {
   "cell_type": "code",
   "execution_count": 110,
   "id": "c7de14a3-9637-4e2a-80e2-60d3d4af62d9",
   "metadata": {},
   "outputs": [
    {
     "data": {
      "text/html": [
       "<div>\n",
       "<style scoped>\n",
       "    .dataframe tbody tr th:only-of-type {\n",
       "        vertical-align: middle;\n",
       "    }\n",
       "\n",
       "    .dataframe tbody tr th {\n",
       "        vertical-align: top;\n",
       "    }\n",
       "\n",
       "    .dataframe thead th {\n",
       "        text-align: right;\n",
       "    }\n",
       "</style>\n",
       "<table border=\"1\" class=\"dataframe\">\n",
       "  <thead>\n",
       "    <tr style=\"text-align: right;\">\n",
       "      <th></th>\n",
       "      <th>Platform</th>\n",
       "      <th>Delivery Delay</th>\n",
       "    </tr>\n",
       "  </thead>\n",
       "  <tbody>\n",
       "    <tr>\n",
       "      <th>0</th>\n",
       "      <td>Blinkit</td>\n",
       "      <td>4473</td>\n",
       "    </tr>\n",
       "    <tr>\n",
       "      <th>1</th>\n",
       "      <td>JioMart</td>\n",
       "      <td>4580</td>\n",
       "    </tr>\n",
       "    <tr>\n",
       "      <th>2</th>\n",
       "      <td>Swiggy Instamart</td>\n",
       "      <td>4619</td>\n",
       "    </tr>\n",
       "  </tbody>\n",
       "</table>\n",
       "</div>"
      ],
      "text/plain": [
       "           Platform  Delivery Delay\n",
       "0           Blinkit            4473\n",
       "1           JioMart            4580\n",
       "2  Swiggy Instamart            4619"
      ]
     },
     "execution_count": 110,
     "metadata": {},
     "output_type": "execute_result"
    }
   ],
   "source": [
    "Ecom.Delivery_Delay_by_platform()"
   ]
  },
  {
   "cell_type": "code",
   "execution_count": 111,
   "id": "4e772a2f-5851-4f4c-84d6-eaa032237943",
   "metadata": {},
   "outputs": [
    {
     "data": {
      "text/plain": [
       "Platform\n",
       "Blinkit             29.474898\n",
       "JioMart             29.634498\n",
       "Swiggy Instamart    29.499925\n",
       "Name: Delivery Time (Minutes), dtype: float64"
      ]
     },
     "execution_count": 111,
     "metadata": {},
     "output_type": "execute_result"
    }
   ],
   "source": [
    "Ecom.avg_delivary_time()"
   ]
  },
  {
   "cell_type": "code",
   "execution_count": 112,
   "id": "18f3d3ec-b5d3-4aac-9ba2-13780c16d4a2",
   "metadata": {},
   "outputs": [
    {
     "data": {
      "text/plain": [
       "Platform\n",
       "Blinkit             3.233844\n",
       "JioMart             3.245147\n",
       "Swiggy Instamart    3.243415\n",
       "Name: Service Rating, dtype: float64"
      ]
     },
     "execution_count": 112,
     "metadata": {},
     "output_type": "execute_result"
    }
   ],
   "source": [
    "Ecom.better_service_rating()"
   ]
  },
  {
   "cell_type": "code",
   "execution_count": 113,
   "id": "7475d2e5-b8c3-465d-8acd-911555706a5e",
   "metadata": {},
   "outputs": [
    {
     "name": "stdout",
     "output_type": "stream",
     "text": [
      "Lower Bound: -447.5\n",
      "Upper Bound: 1500.5\n",
      "Number of outliers: 4360\n"
     ]
    }
   ],
   "source": [
    "Ecom.Outliers(\"Order Value (INR)\")"
   ]
  },
  {
   "cell_type": "code",
   "execution_count": 114,
   "id": "2f3b893d-ba99-4e6e-9a1d-f846df45506e",
   "metadata": {},
   "outputs": [
    {
     "data": {
      "image/png": "[encoded data removed]",
      "text/plain": [
       "<Figure size 640x480 with 2 Axes>"
      ]
     },
     "metadata": {},
     "output_type": "display_data"
    }
   ],
   "source": [
    "Ecom.heat_map()"
   ]
  },
  {
   "cell_type": "code",
   "execution_count": 115,
   "id": "a417b68c-e765-44cc-aa32-f25e146843c3",
   "metadata": {},
   "outputs": [
    {
     "data": {
      "text/plain": [
       "{'whiskers': [<matplotlib.lines.Line2D at 0x131d27c50>,\n",
       "  <matplotlib.lines.Line2D at 0x131d27d90>],\n",
       " 'caps': [<matplotlib.lines.Line2D at 0x131d27ed0>,\n",
       "  <matplotlib.lines.Line2D at 0x131d68050>],\n",
       " 'boxes': [<matplotlib.lines.Line2D at 0x131d27b10>],\n",
       " 'medians': [<matplotlib.lines.Line2D at 0x131d68190>],\n",
       " 'fliers': [<matplotlib.lines.Line2D at 0x131d682d0>],\n",
       " 'means': []}"
      ]
     },
     "execution_count": 115,
     "metadata": {},
     "output_type": "execute_result"
    },
    {
     "data": {
      "image/png": "[encoded data removed]",
      "text/plain": [
       "<Figure size 640x480 with 1 Axes>"
      ]
     },
     "metadata": {},
     "output_type": "display_data"
    }
   ],
   "source": [
    "Ecom.outlayers()"
   ]
  },
  {
   "cell_type": "code",
   "execution_count": 15,
   "id": "c265cc21-ae9d-4f79-96e7-948751ed66cf",
   "metadata": {},
   "outputs": [
    {
     "name": "stdout",
     "output_type": "stream",
     "text": [
      "Lower Bound: -447.5\n",
      "Upper Bound: 1500.5\n",
      "Number of outliers: 4360\n"
     ]
    }
   ],
   "source": [
    "Ecom.Outliers('Order Value (INR)')"
   ]
  },
  {
   "cell_type": "code",
   "execution_count": null,
   "id": "bf11dfec-1798-4b32-a83c-bceb02a2d988",
   "metadata": {},
   "outputs": [],
   "source": [
    "Ecom"
   ]
  },
  {
   "cell_type": "code",
   "execution_count": 7,
   "id": "6331e901-0c2b-4141-b3b9-4a16d3c87598",
   "metadata": {},
   "outputs": [
    {
     "name": "stdout",
     "output_type": "stream",
     "text": [
      "✅ Data inserted successfully into table: Ecommerce_Delivery_Analytics_New\n"
     ]
    }
   ],
   "source": [
    "import re\n",
    "import psycopg2\n",
    "\n",
    "# --- 1. Sanitize table name (important!) ---\n",
    "table_name = 'Ecommerce_Delivery_Analytics_New'\n",
    "clean_table_name = re.sub(r'\\W+', '_', table_name)  # Replace special chars with underscores\n",
    "\n",
    "# --- 2. Infer SQL types from pandas dtypes ---\n",
    "def infer_sql_types(dtype):\n",
    "    import pandas as pd\n",
    "    if pd.api.types.is_integer_dtype(dtype):\n",
    "        return 'INT'\n",
    "    elif pd.api.types.is_bool_dtype(dtype):\n",
    "        return 'BOOLEAN'\n",
    "    elif pd.api.types.is_float_dtype(dtype):\n",
    "        return 'FLOAT'\n",
    "    elif pd.api.types.is_datetime64_any_dtype(dtype):\n",
    "        return 'TIMESTAMP'\n",
    "    else:\n",
    "        return 'TEXT'\n",
    "\n",
    "columns = ec_df.dtypes\n",
    "sql_columns = ',\\n '.join([f'\"{col}\" {infer_sql_types(dtype)}' for col, dtype in columns.items()])\n",
    "\n",
    "# --- 3. Generate CREATE TABLE statement ---\n",
    "create_stmt = f\"\"\"\n",
    "CREATE TABLE IF NOT EXISTS {clean_table_name} (\n",
    " {sql_columns}\n",
    ");\n",
    "\"\"\"\n",
    "\n",
    "# --- 4. Connect to PostgreSQL ---\n",
    "conn = psycopg2.connect(\n",
    "    dbname=\"postgres\",\n",
    "    user=\"postgres\",\n",
    "    password=\"@Venkat2252\",\n",
    "    host=\"localhost\",\n",
    "    port=\"5432\"\n",
    ")\n",
    "\n",
    "cur = conn.cursor()\n",
    "\n",
    "# --- 5. Create table ---\n",
    "cur.execute(create_stmt)\n",
    "conn.commit()\n",
    "\n",
    "# --- 6. Prepare INSERT statement ---\n",
    "columns_list = list(ec_df.columns)\n",
    "placeholders = ', '.join(['%s'] * len(columns_list))\n",
    "insert_stmt = f\"\"\"\n",
    "INSERT INTO {clean_table_name} ({', '.join(['\"{}\"'.format(col) for col in columns_list])})\n",
    "VALUES ({placeholders});\n",
    "\"\"\"\n",
    "\n",
    "# --- 7. Insert data efficiently (bulk insert) ---\n",
    "data = [tuple(row) for row in ec_df.to_numpy()]\n",
    "cur.executemany(insert_stmt, data)\n",
    "conn.commit()\n",
    "\n",
    "cur.close()\n",
    "conn.close()\n",
    "\n",
    "print(f\"✅ Data inserted successfully into table: {clean_table_name}\")"
   ]
  },
  {
   "cell_type": "code",
   "execution_count": null,
   "id": "53979694-4e7f-4f14-8a8c-4256392d0dfd",
   "metadata": {},
   "outputs": [],
   "source": []
  }
 ],
 "metadata": {
  "kernelspec": {
   "display_name": "Python 3 (ipykernel)",
   "language": "python",
   "name": "python3"
  },
  "language_info": {
   "codemirror_mode": {
    "name": "ipython",
    "version": 3
   },
   "file_extension": ".py",
   "mimetype": "text/x-python",
   "name": "python",
   "nbconvert_exporter": "python",
   "pygments_lexer": "ipython3",
   "version": "3.13.3"
  }
 },
 "nbformat": 4,
 "nbformat_minor": 5
}
